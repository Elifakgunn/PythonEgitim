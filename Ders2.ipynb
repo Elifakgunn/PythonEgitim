{
 "cells": [
  {
   "cell_type": "markdown",
   "id": "c40b1a86-50b9-4d43-9366-4c4aa7dc8a22",
   "metadata": {},
   "source": [
    "# KOŞULLU İFADELER\n",
    "# İF - ELİF - ELSE"
   ]
  },
  {
   "cell_type": "code",
   "execution_count": null,
   "id": "68d1f9bc-c43d-4a48-8889-e8baa9f04535",
   "metadata": {},
   "outputs": [],
   "source": [
    "# Kullanım Yapısı:\n",
    "\n",
    "# if <koşul sağlanıyorsa>:\n",
    "#  <burada yazılanı yap>"
   ]
  },
  {
   "cell_type": "code",
   "execution_count": null,
   "id": "4c1415c8-9a80-4fc9-afee-d51dbfaa20f6",
   "metadata": {},
   "outputs": [],
   "source": [
    "hava_durumu = 'yagisli'\n",
    "\n",
    "if hava_durumu == 'yagisli':\n",
    "    print(\"Semsiyeni al!\")"
   ]
  },
  {
   "cell_type": "code",
   "execution_count": null,
   "id": "17656708-2126-4926-b5ee-c3cffc6d8d7c",
   "metadata": {},
   "outputs": [],
   "source": [
    "hava_durumu = 'karli'\n",
    "\n",
    "if hava_durumu == 'yagisli':\n",
    "    print(\"Semsiyeni al!\")\n",
    "else:\n",
    "    print(\"Sikinti yok!\")"
   ]
  },
  {
   "cell_type": "code",
   "execution_count": null,
   "id": "4b6d2446-6d61-45dd-9b56-614ea91bf540",
   "metadata": {},
   "outputs": [],
   "source": [
    "# Kullanım Yapısı:\n",
    "\n",
    "# if <koşul sağlanıyorsa>:\n",
    "#    <burada yazılanı yap>\n",
    "# elif <alternatif kosul saglaniyorsa>:\n",
    "#    <burada yazilani yap>\n",
    "# else:\n",
    "#    <burada yazılanı yap>"
   ]
  },
  {
   "cell_type": "code",
   "execution_count": null,
   "id": "4524757f-58db-4dba-a3bf-c9db0216ca3b",
   "metadata": {},
   "outputs": [],
   "source": [
    "hava_durumu = 'karli'\n",
    "\n",
    "if hava_durumu == 'yagisli':\n",
    "    print(\"Semsiyeni al!\")\n",
    "elif hava_durumu == 'karli':\n",
    "    print(\"Atkini al!\")\n",
    "else:\n",
    "    print(\"Sikinti yok!\")"
   ]
  },
  {
   "cell_type": "markdown",
   "id": "63039771-c70c-414f-8dd0-d7531aa3ee99",
   "metadata": {},
   "source": [
    "# DÖNGÜLER\n",
    "# FOR DÖNGÜSÜ"
   ]
  },
  {
   "cell_type": "code",
   "execution_count": null,
   "id": "6a3a5edb-ec36-409a-83c6-2ac00add6f62",
   "metadata": {},
   "outputs": [],
   "source": [
    "# Kullanım Yapısı\n",
    "\n",
    "# for <degisken> in <iterable>:\n",
    "#    <buraya yazilani yap>"
   ]
  },
  {
   "cell_type": "code",
   "execution_count": null,
   "id": "9185eba3-32b3-484f-9feb-1f43395d58cd",
   "metadata": {},
   "outputs": [],
   "source": [
    "meyveler = [\"elma\", \"armut\", \"çilek\", \"muz\"]\n",
    "for meyve in meyveler:\n",
    "    print(\"Meyve: {}\".format(meyve))"
   ]
  },
  {
   "cell_type": "code",
   "execution_count": null,
   "id": "7e0ff1f5-bc8b-4e69-ae0c-0dfd11628ecd",
   "metadata": {},
   "outputs": [],
   "source": [
    "meyveler = [\"elma\", \"armut\", \"çilek\", \"muz\"]\n",
    "aranan = input(\"Hangi meyveyi arıyorsun? \")\n",
    "\n",
    "for meyve in meyveler:\n",
    "    if meyve == aranan:\n",
    "        print(\"Meyve bulundu!\")\n",
    "        break\n",
    "else:\n",
    "    print(\"Meyve bulunamadı!\")"
   ]
  },
  {
   "cell_type": "markdown",
   "id": "f71921ab-7a3f-4724-b536-5d0e408aa8e2",
   "metadata": {},
   "source": [
    "# WHİLE DÖNGÜSÜ"
   ]
  },
  {
   "cell_type": "code",
   "execution_count": null,
   "id": "a6cf8648-a5cc-4fe5-8e4a-847b5ae613e9",
   "metadata": {},
   "outputs": [],
   "source": [
    "while <sart dogruyken>:\n",
    "    <burda yazilani yap>"
   ]
  },
  {
   "cell_type": "code",
   "execution_count": null,
   "id": "55ec68d3-4586-4e05-8bd6-65b5be3021fb",
   "metadata": {},
   "outputs": [],
   "source": [
    "Faktöriyel Hesabi\n",
    "3! = 3 * 2 * 1\n",
    "6! = 6 * 5 * 4 * 3 * 2 * 1"
   ]
  },
  {
   "cell_type": "code",
   "execution_count": null,
   "id": "c0400715-3790-4818-a734-e3295d2c7439",
   "metadata": {},
   "outputs": [],
   "source": [
    "x = 6\n",
    "sayi = 1\n",
    "while x > 1:\n",
    "    sayi = sayi * x\n",
    "    x-=1\n",
    "print(sayi)"
   ]
  },
  {
   "cell_type": "markdown",
   "id": "0ebdad27-dc4f-4a0d-97a6-03bf8c0da634",
   "metadata": {},
   "source": [
    "# range"
   ]
  },
  {
   "cell_type": "code",
   "execution_count": null,
   "id": "b494727c-e1eb-4dbb-9e0c-56d9d32855c1",
   "metadata": {},
   "outputs": [],
   "source": [
    "range (0,10)"
   ]
  },
  {
   "cell_type": "code",
   "execution_count": null,
   "id": "4b68790d-2b8e-4a06-9222-2ab38c543bd0",
   "metadata": {},
   "outputs": [],
   "source": [
    "liste = [1,2,3,4,5,6,7,8,9]"
   ]
  },
  {
   "cell_type": "code",
   "execution_count": null,
   "id": "fe10c4c5-7d71-4760-8026-0a0df7703159",
   "metadata": {},
   "outputs": [],
   "source": [
    "list(range(10))"
   ]
  },
  {
   "cell_type": "code",
   "execution_count": null,
   "id": "0889a224-bef9-4839-8150-327c0da4c8b0",
   "metadata": {},
   "outputs": [],
   "source": []
  },
  {
   "cell_type": "code",
   "execution_count": null,
   "id": "afb5ceaa-4682-4d52-87b2-9e496eb099e9",
   "metadata": {},
   "outputs": [],
   "source": [
    "sayı= [*range (0,10,2)]\n",
    "sayı"
   ]
  },
  {
   "cell_type": "code",
   "execution_count": null,
   "id": "6bf4096a-6527-40bd-a786-3b8b22398662",
   "metadata": {},
   "outputs": [],
   "source": [
    "for sayi in range(5):\n",
    "    \n",
    "    print(sayi)"
   ]
  },
  {
   "cell_type": "markdown",
   "id": "b208c007-80ac-4700-9e38-b21233c41d9a",
   "metadata": {},
   "source": [
    "# Ek Özellikler"
   ]
  },
  {
   "cell_type": "raw",
   "id": "4cdc31ef-3a12-457b-af61-ee1abed49b8c",
   "metadata": {},
   "source": [
    "pass: Geç\n",
    "break: Ayrıl\n",
    "continue: Devam Et"
   ]
  },
  {
   "cell_type": "code",
   "execution_count": null,
   "id": "738e30f1-0390-4174-b05c-1faa848ed599",
   "metadata": {},
   "outputs": [],
   "source": [
    "# 1. Break Kullanımı\n",
    "for i in range(5):\n",
    "    if i == 4:\n",
    "        break  # Döngüyü sonlandır\n",
    "    print(i)"
   ]
  },
  {
   "cell_type": "code",
   "execution_count": null,
   "id": "07b528e7-41df-4c14-838c-b3a89a0a26e5",
   "metadata": {},
   "outputs": [],
   "source": [
    "# 2. Continue Kullanımı\n",
    "for i in range(6):\n",
    "    if i % 2 == 0:\n",
    "        continue  # Bu turu atla, bir sonraki tura geç\n",
    "    print(i)"
   ]
  },
  {
   "cell_type": "code",
   "execution_count": null,
   "id": "1ebfd7ef-3a33-42d7-93f8-41d5a5622b5d",
   "metadata": {},
   "outputs": [],
   "source": [
    "# 3. pass Kullanımı(Kodun yapısını bozmadan geçilmesini sağlar) yer tutucudur\n",
    "for i in range(6):\n",
    "    if i % 2 == 0:\n",
    "        pass \n",
    "    else:\n",
    "    print(i)"
   ]
  },
  {
   "cell_type": "code",
   "execution_count": null,
   "id": "d43e0d9c-25b6-4d59-8263-6b1e2de9646c",
   "metadata": {},
   "outputs": [],
   "source": []
  }
 ],
 "metadata": {
  "kernelspec": {
   "display_name": "Python [conda env:base] *",
   "language": "python",
   "name": "conda-base-py"
  },
  "language_info": {
   "codemirror_mode": {
    "name": "ipython",
    "version": 3
   },
   "file_extension": ".py",
   "mimetype": "text/x-python",
   "name": "python",
   "nbconvert_exporter": "python",
   "pygments_lexer": "ipython3",
   "version": "3.12.7"
  }
 },
 "nbformat": 4,
 "nbformat_minor": 5
}
