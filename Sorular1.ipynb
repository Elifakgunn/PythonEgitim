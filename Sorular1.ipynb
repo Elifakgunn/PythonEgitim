{
 "cells": [
  {
   "cell_type": "markdown",
   "id": "17fe7416-6267-4bbe-8805-0144c5976322",
   "metadata": {},
   "source": [
    "# Sayi Operasyonları"
   ]
  },
  {
   "cell_type": "markdown",
   "id": "d4253c2e-0bb9-4fb4-94b1-67a0fb705e97",
   "metadata": {},
   "source": [
    "Aşağıdaki hücrelerde, şu işlemleri print komutunu kullanarak ekrana yazdır:"
   ]
  },
  {
   "cell_type": "code",
   "execution_count": null,
   "id": "b143a0d5-6d35-44c6-8c34-7fb70957c144",
   "metadata": {},
   "outputs": [],
   "source": [
    "# 3 ve 2'yi toplamı için bu alanı kullanabilirsin:"
   ]
  },
  {
   "cell_type": "code",
   "execution_count": null,
   "id": "da2a1ec0-ff82-4850-980d-955c08dd9160",
   "metadata": {},
   "outputs": [],
   "source": [
    "# 5 ve 4'ü çarpımı için bu alanı kullanabilirsin:"
   ]
  },
  {
   "cell_type": "code",
   "execution_count": null,
   "id": "bd3e1926-39c3-4491-874e-d5c56ebdf415",
   "metadata": {},
   "outputs": [],
   "source": [
    "# 5 ve 4'ün bölümünden kalan için bu alanı kullanabilirsin:"
   ]
  },
  {
   "cell_type": "markdown",
   "id": "33fc06ea-a454-499a-a38b-c4a35c916098",
   "metadata": {},
   "source": [
    "Aşağıdaki hücreleri kullanarak, şu işlemleri yanıtlandır:"
   ]
  },
  {
   "cell_type": "code",
   "execution_count": null,
   "id": "4189599f-3bb7-4cfa-82fa-8669406bd4bc",
   "metadata": {},
   "outputs": [],
   "source": [
    "# 2.3 ve 4.7'nin toplama işleminin veri tipini, komut kullanarak ekrana bastır?"
   ]
  },
  {
   "cell_type": "markdown",
   "id": "27f52a10-3b38-4066-be4d-f02e8960e28d",
   "metadata": {},
   "source": [
    "# Yazilar"
   ]
  },
  {
   "cell_type": "code",
   "execution_count": null,
   "id": "775499a0-436c-4b0d-9962-3d20d8d33df8",
   "metadata": {},
   "outputs": [],
   "source": [
    "cümle = \"Güzel günler göreceğiz, güneşli günler\""
   ]
  },
  {
   "cell_type": "markdown",
   "id": "1a81f487-bfe2-4be1-9dac-6bec9c42e8a5",
   "metadata": {},
   "source": [
    "Yukarıdaki değişkeni kullanarak, aşağıdaki hücrelerde, şu işlemleri yanıtlandır:"
   ]
  },
  {
   "cell_type": "code",
   "execution_count": null,
   "id": "d05e7cde-e48d-48ef-8922-a675966f051a",
   "metadata": {},
   "outputs": [],
   "source": [
    "# \"ü\" harfini index komutu kullanmadan döndür:"
   ]
  },
  {
   "cell_type": "code",
   "execution_count": null,
   "id": "87779f31-591e-4a71-8883-58785182b712",
   "metadata": {},
   "outputs": [],
   "source": [
    "# \"ü\" harfinin konumunu, index komutu kullanarak döndür:"
   ]
  },
  {
   "cell_type": "code",
   "execution_count": null,
   "id": "113c2fa3-c346-4d26-8bc5-40ca9631888d",
   "metadata": {},
   "outputs": [],
   "source": [
    "# cümle.upper().lower() ifadesinin cevabi nedir?"
   ]
  },
  {
   "cell_type": "code",
   "execution_count": null,
   "id": "923330ec-63b7-4f7d-9b28-262f26f9c6f1",
   "metadata": {},
   "outputs": [],
   "source": [
    "# değişkendeki her değeri ayırarak liste yap:"
   ]
  },
  {
   "cell_type": "markdown",
   "id": "9692bf78-b6c7-4491-b32a-559153cb349c",
   "metadata": {},
   "source": [
    "# Boolen"
   ]
  },
  {
   "cell_type": "code",
   "execution_count": null,
   "id": "4f434543-228f-4cdf-8294-acd081dfb493",
   "metadata": {},
   "outputs": [],
   "source": [
    "a = True\n",
    "b = False\n",
    "c = 'True'"
   ]
  },
  {
   "cell_type": "code",
   "execution_count": null,
   "id": "bb90c8e6-c6d9-4958-b131-3848821abaf0",
   "metadata": {},
   "outputs": [],
   "source": [
    "# a == b sorgusu cevap olarak ne döndürür?"
   ]
  },
  {
   "cell_type": "code",
   "execution_count": null,
   "id": "8699b27e-2cdf-4e79-8254-c94e4fcab96e",
   "metadata": {},
   "outputs": [],
   "source": [
    "# a == c sorgusu cevap olarak ne döndürür?"
   ]
  },
  {
   "cell_type": "code",
   "execution_count": null,
   "id": "f98b3b97-e31c-4b45-adac-bef32e58e401",
   "metadata": {},
   "outputs": [],
   "source": [
    "# a!=b sorgusu cevap olarak ne döndürür?"
   ]
  },
  {
   "cell_type": "code",
   "execution_count": null,
   "id": "263fd158-cfaa-4655-a615-6a04aa4e6b6b",
   "metadata": {},
   "outputs": [],
   "source": [
    "# type(3) == type('3') sorgusunu cevap olarak ne döndürür?"
   ]
  },
  {
   "cell_type": "markdown",
   "id": "e6a3ecdf-67c8-4bc5-928c-63980202c7fe",
   "metadata": {},
   "source": [
    "# Listeler ve Setler"
   ]
  },
  {
   "cell_type": "code",
   "execution_count": null,
   "id": "2224c4a0-57d4-459d-9089-041981c92fdd",
   "metadata": {},
   "outputs": [],
   "source": [
    "liste = [1, 'a', 2, 3, True, 4, 5, 'True', '1']"
   ]
  },
  {
   "cell_type": "markdown",
   "id": "617df042-c952-4335-9e3e-c36286bd65cc",
   "metadata": {},
   "source": [
    "Yukarıdaki değişkeni kullanarak, aşağıdaki hücrelerde, şu işlemleri yanıtlandır:"
   ]
  },
  {
   "cell_type": "code",
   "execution_count": null,
   "id": "277bd185-ab19-4096-8a55-f9345ebb7b7c",
   "metadata": {},
   "outputs": [],
   "source": [
    "# Listenin son elemanını nasıl bulabiliriz?"
   ]
  },
  {
   "cell_type": "code",
   "execution_count": null,
   "id": "a5ddc32b-14ef-44c8-8140-bf602a750bc8",
   "metadata": {},
   "outputs": [],
   "source": [
    "# Listenin 2. ve 4. elemanlarını içeren yeni bir liste oluştur:"
   ]
  },
  {
   "cell_type": "code",
   "execution_count": null,
   "id": "f3c02c05-c8eb-49c6-9e61-7c5d5c9784df",
   "metadata": {},
   "outputs": [],
   "source": [
    "# Listeyi metod kullanarak nasıl ters sıralarsınız?"
   ]
  },
  {
   "cell_type": "code",
   "execution_count": null,
   "id": "9f69e633-496e-4470-85ac-b5aa659a4748",
   "metadata": {},
   "outputs": [],
   "source": [
    "# Listeyi [::] kullanarak nasıl ters sıralarsınız?"
   ]
  },
  {
   "cell_type": "code",
   "execution_count": null,
   "id": "778714d2-37fe-43c6-ae11-c0dbe6189ec8",
   "metadata": {},
   "outputs": [],
   "source": [
    "# Eğer yukarıdaki listeyi, set'e çevirecek olsak eleman sayısı farklı olur muydu? Neden?\n",
    "#"
   ]
  },
  {
   "cell_type": "code",
   "execution_count": null,
   "id": "6d213c59-4e48-4853-9216-b1533140b0cb",
   "metadata": {},
   "outputs": [],
   "source": [
    "ic_ice_liste = [1,2,3,[4,5]]"
   ]
  },
  {
   "cell_type": "markdown",
   "id": "31fcc0cd-0977-4420-8457-337f355db60d",
   "metadata": {},
   "source": [
    "Yukarıdaki değişkeni kullanarak, aşağıdaki hücrelerde, şu işlemleri yanıtlandır:"
   ]
  },
  {
   "cell_type": "code",
   "execution_count": null,
   "id": "085b3f3b-8803-49f0-9d6e-68364231083a",
   "metadata": {},
   "outputs": [],
   "source": [
    "# 5 değerine nasıl ulaşırsınız?"
   ]
  },
  {
   "cell_type": "code",
   "execution_count": null,
   "id": "d6d9dbeb-6443-47e4-b2b9-4712c61ab91c",
   "metadata": {},
   "outputs": [],
   "source": [
    "#  ic_ice_liste değişkeninin son konumunda bulunan elemanını listeden atın ve bu kısmı bir degişkene atayın"
   ]
  },
  {
   "cell_type": "code",
   "execution_count": null,
   "id": "560a9f17-8e69-49e5-97b8-e135f9c74cea",
   "metadata": {},
   "outputs": [],
   "source": [
    "#  pop komutunu kullanmayarak listeyi nasil [1,2,[4,5]] sekline cevirebilirsiniz?"
   ]
  },
  {
   "cell_type": "markdown",
   "id": "316fa6f5-a5c2-409b-b53c-f90129e540d4",
   "metadata": {},
   "source": [
    "# Dictionary"
   ]
  },
  {
   "cell_type": "code",
   "execution_count": null,
   "id": "d80e2831-4e75-4b7c-b587-06dcee39c095",
   "metadata": {},
   "outputs": [],
   "source": [
    "# Dictionary oluştururken kullanılan anahtar ve değer çiftinin Python'daki karşılıkları nelerdir?\n",
    "#"
   ]
  },
  {
   "cell_type": "code",
   "execution_count": null,
   "id": "d7df1b17-ee77-4d29-b3cc-3c02f7be1383",
   "metadata": {},
   "outputs": [],
   "source": [
    "my_dict = {'isim': 'Aysu', 'yas':32, 'lokasyon': {'yasadigi':'Berlin', 'dogdugu': 'Istanbul'}}"
   ]
  },
  {
   "cell_type": "code",
   "execution_count": null,
   "id": "c1980b20-cdcd-42c2-8794-32211c7d017e",
   "metadata": {},
   "outputs": [],
   "source": [
    "# 32 değerine nasıl ulaşırsınız?"
   ]
  },
  {
   "cell_type": "code",
   "execution_count": null,
   "id": "03d54d46-5b29-45e9-9297-0cce25d541d0",
   "metadata": {},
   "outputs": [],
   "source": [
    "# isim anahtarına karşılık gelen değeri, kendi isminizle değiştirin:"
   ]
  },
  {
   "cell_type": "code",
   "execution_count": null,
   "id": "28881395-fee1-4011-9c80-691166d15132",
   "metadata": {},
   "outputs": [],
   "source": [
    "# my_dict değişkenindeki 'Istanbul' değerine nasıl ulaşabiliriz?"
   ]
  },
  {
   "cell_type": "code",
   "execution_count": null,
   "id": "9dbfb496-eb56-4363-a5d6-648768c1395d",
   "metadata": {},
   "outputs": [],
   "source": [
    "# my_dict değişkenindeki bütün anahtar değerlerine nasıl ulaşırız?"
   ]
  },
  {
   "cell_type": "markdown",
   "id": "51f6cb2f-2ba0-4973-ad76-89bd963582cb",
   "metadata": {},
   "source": [
    "# Genel Konular"
   ]
  },
  {
   "cell_type": "code",
   "execution_count": null,
   "id": "5c843bee-ff71-4401-9e79-9674100ef4fc",
   "metadata": {},
   "outputs": [],
   "source": [
    "# String ifadelerinin içerisinde \\t ile \\n kullanmanın farkı nedir?\n",
    "#"
   ]
  },
  {
   "cell_type": "code",
   "execution_count": null,
   "id": "c3cffbfa-7830-409c-8654-b0afa6679f34",
   "metadata": {},
   "outputs": [],
   "source": [
    "# değişken isimlendirmelerinde dikkat edilmesi gereken hususlar nelerdir?\n",
    "#"
   ]
  },
  {
   "cell_type": "code",
   "execution_count": null,
   "id": "590ff9c4-cb26-40a7-bcc1-964fee294cde",
   "metadata": {},
   "outputs": [],
   "source": [
    "# [] {} ve () işaretlerini veri tipleri ile eşleştirin:\n",
    "# '' veya \"\" -> \n",
    "# [] -> \n",
    "# {} -> \n",
    "# () ->"
   ]
  }
 ],
 "metadata": {
  "kernelspec": {
   "display_name": "Python [conda env:base] *",
   "language": "python",
   "name": "conda-base-py"
  },
  "language_info": {
   "codemirror_mode": {
    "name": "ipython",
    "version": 3
   },
   "file_extension": ".py",
   "mimetype": "text/x-python",
   "name": "python",
   "nbconvert_exporter": "python",
   "pygments_lexer": "ipython3",
   "version": "3.12.7"
  }
 },
 "nbformat": 4,
 "nbformat_minor": 5
}
