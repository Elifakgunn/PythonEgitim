{
 "cells": [
  {
   "cell_type": "markdown",
   "id": "6bc12d32-3f1f-4c86-8f4f-0cc7b599ce5c",
   "metadata": {},
   "source": [
    "--- Koşullu İfade Soruları"
   ]
  },
  {
   "cell_type": "code",
   "execution_count": null,
   "id": "8ceebb96-9fbd-4cee-a98d-c0c778d2ece8",
   "metadata": {},
   "outputs": [],
   "source": [
    "#🎯 Soru 1: Kullanıcı Girişi Kontrolü\n",
    "#Bir alışveriş listesi programı yazmak istiyorsun. Elinde hazır bir liste var:\n",
    "#alisveris_listesi = [\"ekmek\", \"süt\", \"yumurta\", \"peynir\"]\n",
    "\n",
    "#Kullanıcıdan bir ürün girmesini iste:\n",
    "#Eğer ürün listede varsa \"Ürün listede var!\" yazdır.\n",
    "#Eğer ürün listede yoksa \"Ürün listede yok!\" yazdır."
   ]
  },
  {
   "cell_type": "code",
   "execution_count": null,
   "id": "3e7912a0-a0e5-41ad-89b9-aae2eab64bb8",
   "metadata": {},
   "outputs": [],
   "source": []
  },
  {
   "cell_type": "code",
   "execution_count": null,
   "id": "79727fb6-5e8a-48d7-94cd-1062d5175725",
   "metadata": {},
   "outputs": [],
   "source": [
    "#🎯 Soru 2: Kullanıcı Girişi Kontrolü\n",
    "#Kullanıcıdan kullanıcı adı ve şifre alıp giriş kontrolü yapan bir program yazın.\n",
    "\n",
    "#Kullanıcı adı: \"admin\"\n",
    "#Şifre: \"1234\"\n",
    "#Doğruysa \"Giriş başarılı\"\n",
    "#Yanlışsa \"Kullanıcı adı veya şifre hatalı\""
   ]
  },
  {
   "cell_type": "code",
   "execution_count": null,
   "id": "79bd748f-6ecb-491f-873f-1932ca15db51",
   "metadata": {},
   "outputs": [],
   "source": []
  },
  {
   "cell_type": "markdown",
   "id": "641be475-47c5-4b16-8bb9-70047892653f",
   "metadata": {},
   "source": [
    "--- Döngü Soruları"
   ]
  },
  {
   "cell_type": "code",
   "execution_count": null,
   "id": "d8a1f5ec-a05e-459c-b422-b79751bd20b1",
   "metadata": {},
   "outputs": [],
   "source": [
    "#🎯 Soru 3: (FOR)\n",
    "#Kullanıcıdan bir sayı al ve bu sayının 1'den 10'a kadar olan çarpım tablosunu oluştur!"
   ]
  },
  {
   "cell_type": "code",
   "execution_count": null,
   "id": "bc3191a8-40de-46fd-a443-b09f92ca0007",
   "metadata": {},
   "outputs": [],
   "source": []
  },
  {
   "cell_type": "code",
   "execution_count": null,
   "id": "5d64af9e-d1d7-445d-8f71-3d0f653296ff",
   "metadata": {},
   "outputs": [],
   "source": []
  },
  {
   "cell_type": "code",
   "execution_count": null,
   "id": "414482d8-d878-4b19-8fa2-541d3a997b94",
   "metadata": {},
   "outputs": [],
   "source": [
    "#🎯 Soru 4: Sayı Tahmin Oyunu (WHILE)\n",
    "#Bir sayı belirleyin (örneğin 25).\n",
    "#Kullanıcıdan bu sayıyı tahmin etmesini isteyin.\n",
    "#Kullanıcı doğru tahmin yapana kadar:\n",
    "#Tahmini küçükse: \"Daha büyük bir sayı gir!\" desin.\n",
    "#Tahmini büyükse: \"Daha küçük bir sayı gir!\" desin.\n",
    "#Kullanıcı doğru sayıyı bulunca: \"🎉 Tebrikler, doğru tahmin!\" yazsın.\n",
    "#✅ İpucu: while döngüsünü kullanarak tahmin doğru olana kadar döngüyü devam ettirin."
   ]
  },
  {
   "cell_type": "code",
   "execution_count": null,
   "id": "aafbcc5b-7b11-4395-82a4-50a2a0820e23",
   "metadata": {},
   "outputs": [],
   "source": []
  }
 ],
 "metadata": {
  "kernelspec": {
   "display_name": "Python [conda env:base] *",
   "language": "python",
   "name": "conda-base-py"
  },
  "language_info": {
   "codemirror_mode": {
    "name": "ipython",
    "version": 3
   },
   "file_extension": ".py",
   "mimetype": "text/x-python",
   "name": "python",
   "nbconvert_exporter": "python",
   "pygments_lexer": "ipython3",
   "version": "3.12.7"
  }
 },
 "nbformat": 4,
 "nbformat_minor": 5
}
