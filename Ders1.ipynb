{
 "cells": [
  {
   "cell_type": "markdown",
   "id": "118ecbbf-c491-4e63-b55d-549b5cbcddc9",
   "metadata": {},
   "source": [
    "# Print Komutu"
   ]
  },
  {
   "cell_type": "code",
   "execution_count": 271,
   "id": "416bd563-a256-46c4-af4b-415a0b77ee3d",
   "metadata": {},
   "outputs": [
    {
     "name": "stdout",
     "output_type": "stream",
     "text": [
      "Hello World\n"
     ]
    }
   ],
   "source": [
    "print ('Hello World')"
   ]
  },
  {
   "cell_type": "code",
   "execution_count": 275,
   "id": "1c053fdc-0774-460d-b306-d3251f9c1795",
   "metadata": {},
   "outputs": [
    {
     "name": "stdout",
     "output_type": "stream",
     "text": [
      "Merhaba\n",
      "istatistik Ögrencileri\n"
     ]
    }
   ],
   "source": [
    "print ('Merhaba\\nistatistik Ögrencileri')"
   ]
  },
  {
   "cell_type": "code",
   "execution_count": 279,
   "id": "05932f6e-ff1f-43ac-bc50-ccb7b360be96",
   "metadata": {},
   "outputs": [
    {
     "name": "stdout",
     "output_type": "stream",
     "text": [
      "Merhaba\t istatistik Ögrencileri\n"
     ]
    }
   ],
   "source": [
    "print ('Merhaba\\t istatistik Ögrencileri')"
   ]
  },
  {
   "cell_type": "code",
   "execution_count": 285,
   "id": "cb1a49c0-9c5c-4478-a11e-2e0f63d1a926",
   "metadata": {},
   "outputs": [
    {
     "name": "stdout",
     "output_type": "stream",
     "text": [
      "Elif Akgün\n"
     ]
    }
   ],
   "source": [
    "print ('Elif','Akgün')"
   ]
  },
  {
   "cell_type": "code",
   "execution_count": 33,
   "id": "97adca59-7518-4828-b839-909a0ecac276",
   "metadata": {},
   "outputs": [
    {
     "name": "stdout",
     "output_type": "stream",
     "text": [
      "Benim adım Ataberk Soyadım Öztürk ve yasim 28\n"
     ]
    }
   ],
   "source": [
    "ad= 'Ataberk'\n",
    "soyad= 'Öztürk'\n",
    "yas= 28\n",
    "\n",
    "print('Benim adım {}'.format(ad), 'Soyadım {}'.format(soyad), 've yasim {}'.format(yas))"
   ]
  },
  {
   "cell_type": "code",
   "execution_count": 43,
   "id": "80e980dd-a84f-4e90-84a2-f5ab87887101",
   "metadata": {},
   "outputs": [
    {
     "name": "stdout",
     "output_type": "stream",
     "text": [
      "Benim adım Elif, Soyadım Akgün, ve yasim 26\n"
     ]
    }
   ],
   "source": [
    "print(\"Benim adım {ad}, Soyadım {soyad}, ve yasim {yas}\".format(ad='Elif', soyad='Akgün', yas=26))"
   ]
  },
  {
   "cell_type": "code",
   "execution_count": 58,
   "id": "00372068-f7eb-4b5c-8942-4a8c15c084ff",
   "metadata": {},
   "outputs": [
    {
     "name": "stdout",
     "output_type": "stream",
     "text": [
      "Benim adım Nisa,soyadım Öztürk, ve yasim 22\n"
     ]
    }
   ],
   "source": [
    "print(\"Benim adım {0},soyadım {1}, ve yasim {2}\".format('Nisa','Öztürk',22))"
   ]
  },
  {
   "cell_type": "markdown",
   "id": "6f3b3b99-91ca-470a-b092-9b6552f323c0",
   "metadata": {},
   "source": [
    "# Degiskenler"
   ]
  },
  {
   "cell_type": "raw",
   "id": "8a3e75fa-6462-4693-b4fd-ec21e6cea374",
   "metadata": {},
   "source": [
    "Kabul edilmeyen degisken isim atama senaryolari:\n",
    "sayi ile baslamak \n",
    "bosluk icermek\n",
    "\"*(/ gibi semboller icermek\n",
    "rezerve edilmis (komutlar) isimleri kullanmak"
   ]
  },
  {
   "cell_type": "code",
   "execution_count": 307,
   "id": "7f00409b-e382-4d1d-9ce0-176ba4fc801c",
   "metadata": {},
   "outputs": [
    {
     "name": "stdout",
     "output_type": "stream",
     "text": [
      "12\n"
     ]
    }
   ],
   "source": [
    "sayi=10\n",
    "print(sayi)"
   ]
  },
  {
   "cell_type": "code",
   "execution_count": 297,
   "id": "185c26f1-6dd7-4fad-b166-012fc16f2e2e",
   "metadata": {},
   "outputs": [
    {
     "name": "stdout",
     "output_type": "stream",
     "text": [
      "12\n"
     ]
    }
   ],
   "source": [
    "sayi=12\n",
    "print(sayi)"
   ]
  },
  {
   "cell_type": "code",
   "execution_count": 55,
   "id": "1f6d3958-6e0d-452d-a747-a83ce266c95b",
   "metadata": {},
   "outputs": [
    {
     "name": "stdout",
     "output_type": "stream",
     "text": [
      "13\n"
     ]
    }
   ],
   "source": [
    "sayi=sayi+1\n",
    "print(sayi)"
   ]
  },
  {
   "cell_type": "markdown",
   "id": "c2254aa3-1b43-4bd0-872e-2bb4b7541228",
   "metadata": {},
   "source": [
    "# Veri Tipleri"
   ]
  },
  {
   "cell_type": "raw",
   "id": "08a141e4-d3bf-43d9-8eea-b1a0907b08bf",
   "metadata": {},
   "source": [
    " #################################################################\n",
    " ###    Tip     ###  Kisaltma  ###             Örnek           ###\n",
    " ### --------------------------------------------------------- ###\n",
    " ###  Integer   ###    int     ###             3, 10           ###\n",
    " ###   Float    ###   float    ###            1.5, 7.0         ###\n",
    " ###   String   ###    str     ###           \"S3m\", '2'        ###\n",
    " ###  Boolean   ###    bool    ###          True, False        ###\n",
    " ###    List    ###    list    ###      [1,2,True, 'a', 1]     ###\n",
    " ###    Set     ###    set     ###         {1,2,True, 'a'}     ###\n",
    " ### Dictionary ###    dict    ### {'isim': 'Elif, 'yas': 26}  ###\n",
    " ###    Tuple   ###    tup     ###         (1, 2, True)        ###\n",
    " #################################################################"
   ]
  },
  {
   "cell_type": "code",
   "execution_count": 66,
   "id": "b5edff5a-7f1c-4698-8ea0-3786a387b0fd",
   "metadata": {},
   "outputs": [],
   "source": [
    "sayi = 42\n",
    "ondalik = 3.14\n",
    "metin = \"Python\"\n",
    "liste = [1, 2, 3]\n",
    "sozluk = {\"a\": 1, \"b\": 2}\n",
    "mantiksal = True"
   ]
  },
  {
   "cell_type": "code",
   "execution_count": 313,
   "id": "a4f943d4-3131-41e8-bfaa-ddd5c4f596dd",
   "metadata": {},
   "outputs": [
    {
     "data": {
      "text/plain": [
       "str"
      ]
     },
     "execution_count": 313,
     "metadata": {},
     "output_type": "execute_result"
    }
   ],
   "source": [
    "type(metin)"
   ]
  },
  {
   "cell_type": "markdown",
   "id": "ec4196ab-37bb-474b-b6b9-f07c500fe635",
   "metadata": {},
   "source": [
    "# Aritmetik Operasyonlar"
   ]
  },
  {
   "cell_type": "code",
   "execution_count": 315,
   "id": "c1564c9e-26b1-4329-ad42-acbed5ef46f0",
   "metadata": {},
   "outputs": [
    {
     "data": {
      "text/plain": [
       "15"
      ]
     },
     "execution_count": 315,
     "metadata": {},
     "output_type": "execute_result"
    }
   ],
   "source": [
    "3*5"
   ]
  },
  {
   "cell_type": "code",
   "execution_count": 317,
   "id": "be9bd2ac-1dc9-410b-be5c-a230c37468d6",
   "metadata": {},
   "outputs": [
    {
     "data": {
      "text/plain": [
       "50"
      ]
     },
     "execution_count": 317,
     "metadata": {},
     "output_type": "execute_result"
    }
   ],
   "source": [
    "7+43"
   ]
  },
  {
   "cell_type": "code",
   "execution_count": 319,
   "id": "747eec1d-32f5-4bc8-aa0b-bae2d55c8b9c",
   "metadata": {},
   "outputs": [
    {
     "data": {
      "text/plain": [
       "7.0"
      ]
     },
     "execution_count": 319,
     "metadata": {},
     "output_type": "execute_result"
    }
   ],
   "source": [
    "35/5"
   ]
  },
  {
   "cell_type": "code",
   "execution_count": 321,
   "id": "72da2a87-3550-4dc6-933b-f668c1665fab",
   "metadata": {},
   "outputs": [
    {
     "data": {
      "text/plain": [
       "1"
      ]
     },
     "execution_count": 321,
     "metadata": {},
     "output_type": "execute_result"
    }
   ],
   "source": [
    "6%5"
   ]
  },
  {
   "cell_type": "code",
   "execution_count": 325,
   "id": "34906fd2-14d7-41c8-8451-9397bb680389",
   "metadata": {},
   "outputs": [
    {
     "data": {
      "text/plain": [
       "25"
      ]
     },
     "execution_count": 325,
     "metadata": {},
     "output_type": "execute_result"
    }
   ],
   "source": [
    "(3+2)*5"
   ]
  },
  {
   "cell_type": "code",
   "execution_count": 327,
   "id": "4e04ba63-fd52-4f98-8007-ccf60c53b51e",
   "metadata": {},
   "outputs": [
    {
     "data": {
      "text/plain": [
       "5.3"
      ]
     },
     "execution_count": 327,
     "metadata": {},
     "output_type": "execute_result"
    }
   ],
   "source": [
    "1.0*5.3"
   ]
  },
  {
   "cell_type": "code",
   "execution_count": 329,
   "id": "0bea4d6b-0649-4df1-acb8-afac43724235",
   "metadata": {},
   "outputs": [
    {
     "data": {
      "text/plain": [
       "9.0"
      ]
     },
     "execution_count": 329,
     "metadata": {},
     "output_type": "execute_result"
    }
   ],
   "source": [
    "5*1.8"
   ]
  },
  {
   "cell_type": "code",
   "execution_count": 331,
   "id": "8a910c95-86ec-4698-b81c-db7c121d8c38",
   "metadata": {},
   "outputs": [
    {
     "data": {
      "text/plain": [
       "'ppppp'"
      ]
     },
     "execution_count": 331,
     "metadata": {},
     "output_type": "execute_result"
    }
   ],
   "source": [
    "5*'p'"
   ]
  },
  {
   "cell_type": "markdown",
   "id": "5bf7595b-b942-4d33-9f4f-ef0ebdaba7be",
   "metadata": {},
   "source": [
    "# Yazilar (String)"
   ]
  },
  {
   "cell_type": "raw",
   "id": "45ba06cf-74ba-49f6-922a-34252bf15312",
   "metadata": {},
   "source": [
    " P  |  Y  |  T  |  H  |  O  |  N   \n",
    "_________________________________\n",
    " 0  |  1  |  2  |  3  |  4  |  5    \n",
    " 0  | -5  | -4  | -3  | -2  | -1    "
   ]
  },
  {
   "cell_type": "code",
   "execution_count": 369,
   "id": "3ad4dc83-2f93-47a6-9fbc-f477209cf5c2",
   "metadata": {},
   "outputs": [
    {
     "name": "stdout",
     "output_type": "stream",
     "text": [
      "python\n"
     ]
    }
   ],
   "source": [
    "isim='python'\n",
    "print(isim)"
   ]
  },
  {
   "cell_type": "code",
   "execution_count": 341,
   "id": "c99fa0b2-8c3a-4de8-a3cd-aa333885c957",
   "metadata": {},
   "outputs": [
    {
     "data": {
      "text/plain": [
       "'N'"
      ]
     },
     "execution_count": 341,
     "metadata": {},
     "output_type": "execute_result"
    }
   ],
   "source": [
    "isim[-1]"
   ]
  },
  {
   "cell_type": "code",
   "execution_count": null,
   "id": "857c66f8-a1c7-4142-bc15-4e32ea6edb6a",
   "metadata": {},
   "outputs": [],
   "source": [
    "isim[start:end]"
   ]
  },
  {
   "cell_type": "code",
   "execution_count": 343,
   "id": "0ed04961-7b75-43a8-9429-78930142fcaf",
   "metadata": {},
   "outputs": [
    {
     "data": {
      "text/plain": [
       "'THO'"
      ]
     },
     "execution_count": 343,
     "metadata": {},
     "output_type": "execute_result"
    }
   ],
   "source": [
    "isim[2:5]"
   ]
  },
  {
   "cell_type": "code",
   "execution_count": null,
   "id": "ea97aa15-1d0a-4a39-828c-02b251dbaee4",
   "metadata": {},
   "outputs": [],
   "source": [
    "isim[start:end:atlama]"
   ]
  },
  {
   "cell_type": "code",
   "execution_count": 345,
   "id": "e21d4587-e185-4406-a903-eb4bf395e03e",
   "metadata": {},
   "outputs": [
    {
     "data": {
      "text/plain": [
       "'PTO'"
      ]
     },
     "execution_count": 345,
     "metadata": {},
     "output_type": "execute_result"
    }
   ],
   "source": [
    "isim[:6:2]"
   ]
  },
  {
   "cell_type": "code",
   "execution_count": 347,
   "id": "729a32c9-65fa-41f7-9d94-91ed592a7b97",
   "metadata": {},
   "outputs": [
    {
     "data": {
      "text/plain": [
       "6"
      ]
     },
     "execution_count": 347,
     "metadata": {},
     "output_type": "execute_result"
    }
   ],
   "source": [
    "len(isim)"
   ]
  },
  {
   "cell_type": "code",
   "execution_count": 371,
   "id": "4af9d65e-4ce5-4387-91ee-8a2468cb481c",
   "metadata": {},
   "outputs": [
    {
     "data": {
      "text/plain": [
       "'python ogren!'"
      ]
     },
     "execution_count": 371,
     "metadata": {},
     "output_type": "execute_result"
    }
   ],
   "source": [
    "isim + \" ogren!\""
   ]
  },
  {
   "cell_type": "code",
   "execution_count": 377,
   "id": "0a10c06c-9740-427b-9edd-1057cdfb8c19",
   "metadata": {},
   "outputs": [
    {
     "name": "stdout",
     "output_type": "stream",
     "text": [
      "python ogren!\n"
     ]
    }
   ],
   "source": [
    "isim= isim +\" ogren!\"\n",
    "print(isim)"
   ]
  },
  {
   "cell_type": "code",
   "execution_count": 355,
   "id": "f7b1c66a-1132-49f5-aa34-9ab6444ce425",
   "metadata": {},
   "outputs": [
    {
     "data": {
      "text/plain": [
       "'PYTHON ogren!PYTHON ogren!PYTHON ogren!PYTHON ogren!PYTHON ogren!'"
      ]
     },
     "execution_count": 355,
     "metadata": {},
     "output_type": "execute_result"
    }
   ],
   "source": [
    "isim*5"
   ]
  },
  {
   "cell_type": "code",
   "execution_count": 357,
   "id": "ae982aa7-f84f-48e0-af30-68d83002fccb",
   "metadata": {},
   "outputs": [
    {
     "data": {
      "text/plain": [
       "'python ogren!'"
      ]
     },
     "execution_count": 357,
     "metadata": {},
     "output_type": "execute_result"
    }
   ],
   "source": [
    "isim.lower()"
   ]
  },
  {
   "cell_type": "code",
   "execution_count": 359,
   "id": "5271a161-e8cb-4988-8319-a4b201e21e95",
   "metadata": {},
   "outputs": [
    {
     "data": {
      "text/plain": [
       "'PYTHON OGREN!'"
      ]
     },
     "execution_count": 359,
     "metadata": {},
     "output_type": "execute_result"
    }
   ],
   "source": [
    "isim.upper()"
   ]
  },
  {
   "cell_type": "code",
   "execution_count": 361,
   "id": "f4a4ba42-fa68-4c37-b73c-226c229a75b5",
   "metadata": {},
   "outputs": [
    {
     "data": {
      "text/plain": [
       "['PYTHON', 'ogren!']"
      ]
     },
     "execution_count": 361,
     "metadata": {},
     "output_type": "execute_result"
    }
   ],
   "source": [
    "isim.split()"
   ]
  },
  {
   "cell_type": "code",
   "execution_count": 379,
   "id": "dbe4014e-5343-45de-b768-87e2aa5c558d",
   "metadata": {},
   "outputs": [
    {
     "name": "stdout",
     "output_type": "stream",
     "text": [
      "['pyth', 'n ', 'gren!']\n"
     ]
    }
   ],
   "source": [
    "print(isim.split(\"o\"))"
   ]
  },
  {
   "cell_type": "markdown",
   "id": "af04386d-83e2-4cf0-8f35-8137dcf977b6",
   "metadata": {},
   "source": [
    "# Boolen"
   ]
  },
  {
   "cell_type": "code",
   "execution_count": 381,
   "id": "b002023b-94de-4ac1-97d1-ce6f84149cae",
   "metadata": {},
   "outputs": [
    {
     "data": {
      "text/plain": [
       "bool"
      ]
     },
     "execution_count": 381,
     "metadata": {},
     "output_type": "execute_result"
    }
   ],
   "source": [
    "a=True\n",
    "type(a)"
   ]
  },
  {
   "cell_type": "code",
   "execution_count": 383,
   "id": "abc9107a-5014-4626-835a-1d41fc99be05",
   "metadata": {},
   "outputs": [
    {
     "name": "stdout",
     "output_type": "stream",
     "text": [
      "<class 'str'>\n"
     ]
    }
   ],
   "source": []
  },
  {
   "cell_type": "code",
   "execution_count": 387,
   "id": "1e14d5fc-e716-408f-ac2c-ab06072c9eca",
   "metadata": {},
   "outputs": [
    {
     "name": "stdout",
     "output_type": "stream",
     "text": [
      "True\n"
     ]
    }
   ],
   "source": [
    "yas1=20\n",
    "yas2=18\n",
    "print(yas1>18)"
   ]
  },
  {
   "cell_type": "code",
   "execution_count": 397,
   "id": "2d6b558e-f921-4572-8873-598141e40a2b",
   "metadata": {},
   "outputs": [
    {
     "data": {
      "text/plain": [
       "True"
      ]
     },
     "execution_count": 397,
     "metadata": {},
     "output_type": "execute_result"
    }
   ],
   "source": [
    "not yas2>18"
   ]
  },
  {
   "cell_type": "code",
   "execution_count": 149,
   "id": "5bf72552-7fce-4a5f-89c6-bbe96b332cae",
   "metadata": {},
   "outputs": [
    {
     "name": "stdout",
     "output_type": "stream",
     "text": [
      "<class 'str'>\n"
     ]
    }
   ],
   "source": [
    "c='True'\n",
    "print(type(c))"
   ]
  },
  {
   "cell_type": "markdown",
   "id": "c6aa0129-9a33-4e05-853e-b2e4965ffcf1",
   "metadata": {},
   "source": [
    "# Koleksiyon Veri Tipleri"
   ]
  },
  {
   "cell_type": "raw",
   "id": "2fdbbf3d-59d1-4b60-8c81-9ef09291af34",
   "metadata": {},
   "source": [
    "# List & Set"
   ]
  },
  {
   "cell_type": "raw",
   "id": "12062858-eb1c-41df-9d4c-b83f24fe3601",
   "metadata": {},
   "source": [
    "[a  ,  b  ,  c  ,  d  ,  e  ,  a]   \n",
    "_________________________________\n",
    " 0  |  1  |  2  |  3  |  4  |  5    \n",
    " 0  | -5  | -4  | -3  | -2  | -1   "
   ]
  },
  {
   "cell_type": "code",
   "execution_count": 399,
   "id": "cbc41829-ef71-4051-97db-285f058cfa5f",
   "metadata": {},
   "outputs": [],
   "source": [
    "liste=['a','b','c','d','e','a']"
   ]
  },
  {
   "cell_type": "code",
   "execution_count": 403,
   "id": "059861a2-1821-4281-8dd7-32c3eb16d971",
   "metadata": {},
   "outputs": [],
   "source": [
    "liste= liste+['f']"
   ]
  },
  {
   "cell_type": "code",
   "execution_count": 405,
   "id": "ca717e23-1458-4927-b589-e606ec49ae45",
   "metadata": {},
   "outputs": [
    {
     "name": "stdout",
     "output_type": "stream",
     "text": [
      "['a', 'b', 'c', 'd', 'e', 'a', 'f']\n"
     ]
    }
   ],
   "source": [
    "print(liste)"
   ]
  },
  {
   "cell_type": "code",
   "execution_count": 413,
   "id": "a3d5f8f9-2a10-48ea-8423-251c8cb00bb3",
   "metadata": {},
   "outputs": [
    {
     "data": {
      "text/plain": [
       "['d', 'a']"
      ]
     },
     "execution_count": 413,
     "metadata": {},
     "output_type": "execute_result"
    }
   ],
   "source": [
    "liste[3:7:2]"
   ]
  },
  {
   "cell_type": "code",
   "execution_count": 415,
   "id": "95b9e7dc-bbc5-4ac5-adba-cc50819aec5b",
   "metadata": {},
   "outputs": [],
   "source": [
    "liste.append('g')"
   ]
  },
  {
   "cell_type": "code",
   "execution_count": 417,
   "id": "fef3f6b9-1472-4efb-a623-a5378e4cebce",
   "metadata": {},
   "outputs": [
    {
     "data": {
      "text/plain": [
       "['a', 'b', 'c', 'd', 'e', 'a', 'f', 'g']"
      ]
     },
     "execution_count": 417,
     "metadata": {},
     "output_type": "execute_result"
    }
   ],
   "source": [
    "liste"
   ]
  },
  {
   "cell_type": "code",
   "execution_count": 419,
   "id": "35e6bdbb-d400-4f48-a33e-566ec9888f10",
   "metadata": {},
   "outputs": [
    {
     "data": {
      "text/plain": [
       "['a', 'b', 'c', 'd', 'e', 'a', 'f']"
      ]
     },
     "execution_count": 419,
     "metadata": {},
     "output_type": "execute_result"
    }
   ],
   "source": [
    "liste.pop()\n",
    "liste"
   ]
  },
  {
   "cell_type": "code",
   "execution_count": 421,
   "id": "25697f31-edef-40f3-88e7-68052233df98",
   "metadata": {},
   "outputs": [
    {
     "data": {
      "text/plain": [
       "['b', 'c', 'd', 'e', 'a', 'f']"
      ]
     },
     "execution_count": 421,
     "metadata": {},
     "output_type": "execute_result"
    }
   ],
   "source": [
    "liste.pop(0)\n",
    "liste"
   ]
  },
  {
   "cell_type": "code",
   "execution_count": 423,
   "id": "3a262300-c972-4880-87fd-de916c1f39b0",
   "metadata": {},
   "outputs": [],
   "source": [
    "sayilar = [123,12312,321,45435,35,1,1,345]"
   ]
  },
  {
   "cell_type": "code",
   "execution_count": 429,
   "id": "77f202cc-f29d-4e73-926b-793a096ccf66",
   "metadata": {},
   "outputs": [
    {
     "data": {
      "text/plain": [
       "[1, 1, 35, 123, 321, 345, 12312, 45435]"
      ]
     },
     "execution_count": 429,
     "metadata": {},
     "output_type": "execute_result"
    }
   ],
   "source": [
    "sayilar.sort()\n",
    "sayilar"
   ]
  },
  {
   "cell_type": "code",
   "execution_count": 431,
   "id": "eaacb142-99fa-4de2-9c42-00f0eb79bb33",
   "metadata": {},
   "outputs": [
    {
     "data": {
      "text/plain": [
       "[45435, 12312, 345, 321, 123, 35, 1, 1]"
      ]
     },
     "execution_count": 431,
     "metadata": {},
     "output_type": "execute_result"
    }
   ],
   "source": [
    "sayilar.reverse()\n",
    "sayilar"
   ]
  },
  {
   "cell_type": "code",
   "execution_count": 437,
   "id": "7b582273-7679-4249-8ce6-5b2b5c29cc03",
   "metadata": {},
   "outputs": [
    {
     "data": {
      "text/plain": [
       "{1, 35, 123, 321, 345, 12312, 45435}"
      ]
     },
     "execution_count": 437,
     "metadata": {},
     "output_type": "execute_result"
    }
   ],
   "source": [
    "set(sayilar)"
   ]
  },
  {
   "cell_type": "markdown",
   "id": "68d6803f-39d0-43ed-80b0-01f91695cde0",
   "metadata": {},
   "source": [
    "# Sabit Koleksiyon Veri Tipi (Tuple)"
   ]
  },
  {
   "cell_type": "raw",
   "id": "d820ac2c-193f-46cf-b540-b4f9a3a50e44",
   "metadata": {},
   "source": [
    "(a  ,  b  ,  c  ,  d  ,  e  ,  a)   \n",
    "_________________________________\n",
    " 0  |  1  |  2  |  3  |  4  |  5    \n",
    " 0  | -5  | -4  | -3  | -2  | -1   "
   ]
  },
  {
   "cell_type": "code",
   "execution_count": 439,
   "id": "28ce7e01-2fb0-494a-a9f7-b90f04f5eeaa",
   "metadata": {},
   "outputs": [
    {
     "name": "stdout",
     "output_type": "stream",
     "text": [
      "['a', 'b', 'c', 'd', 'e', 'a']\n",
      "('a', 'b', 'c', 'd', 'e', 'a')\n"
     ]
    }
   ],
   "source": [
    "liste = ['a', 'b', 'c', 'd', 'e', 'a']\n",
    "print(liste)\n",
    "tup = ('a', 'b', 'c', 'd', 'e', 'a')\n",
    "print(tup)"
   ]
  },
  {
   "cell_type": "code",
   "execution_count": 441,
   "id": "a423bc99-c783-4284-9dc9-49fb896098d7",
   "metadata": {},
   "outputs": [
    {
     "name": "stdout",
     "output_type": "stream",
     "text": [
      "[12345, 'b', 'c', 'd', 'e', 'a']\n"
     ]
    }
   ],
   "source": [
    "liste[0]=12345\n",
    "print(liste)"
   ]
  },
  {
   "cell_type": "code",
   "execution_count": 443,
   "id": "d63c337a-7db6-4ec1-b6a2-83620acfb286",
   "metadata": {},
   "outputs": [
    {
     "ename": "TypeError",
     "evalue": "'tuple' object does not support item assignment",
     "output_type": "error",
     "traceback": [
      "\u001b[1;31m---------------------------------------------------------------------------\u001b[0m",
      "\u001b[1;31mTypeError\u001b[0m                                 Traceback (most recent call last)",
      "Cell \u001b[1;32mIn[443], line 1\u001b[0m\n\u001b[1;32m----> 1\u001b[0m tup[\u001b[38;5;241m0\u001b[39m]\u001b[38;5;241m=\u001b[39m\u001b[38;5;241m12345\u001b[39m\n",
      "\u001b[1;31mTypeError\u001b[0m: 'tuple' object does not support item assignment"
     ]
    }
   ],
   "source": [
    "tup[0]=12345"
   ]
  },
  {
   "cell_type": "code",
   "execution_count": 449,
   "id": "f5fe6a09-c627-4edc-a51b-03c81e285a21",
   "metadata": {},
   "outputs": [
    {
     "data": {
      "text/plain": [
       "1"
      ]
     },
     "execution_count": 449,
     "metadata": {},
     "output_type": "execute_result"
    }
   ],
   "source": [
    "tup = ('a', 'b', 'c', 'd', 'e', 'a')\n",
    "tup.count('c')"
   ]
  },
  {
   "cell_type": "code",
   "execution_count": 453,
   "id": "bb83988e-8d79-4677-9cb7-051400e55ed0",
   "metadata": {},
   "outputs": [
    {
     "data": {
      "text/plain": [
       "0"
      ]
     },
     "execution_count": 453,
     "metadata": {},
     "output_type": "execute_result"
    }
   ],
   "source": [
    "tup.index('a')"
   ]
  },
  {
   "cell_type": "code",
   "execution_count": 223,
   "id": "4d9faa08-7eeb-4978-9415-dd0e9f835f55",
   "metadata": {},
   "outputs": [
    {
     "data": {
      "text/plain": [
       "'a'"
      ]
     },
     "execution_count": 223,
     "metadata": {},
     "output_type": "execute_result"
    }
   ],
   "source": [
    "tup[0]"
   ]
  },
  {
   "cell_type": "markdown",
   "id": "56106283-60fb-47cf-8a17-1a6c76a632ba",
   "metadata": {},
   "source": [
    "# Çok Boyutlu Veri Tipi (Dictionary)"
   ]
  },
  {
   "cell_type": "code",
   "execution_count": 455,
   "id": "7f1191e3-e1f4-4ee8-934c-382457b4e357",
   "metadata": {},
   "outputs": [
    {
     "data": {
      "text/plain": [
       "{'isim': 'Elif', 'yas': 26, 'lokasyon': 'Bomonti'}"
      ]
     },
     "execution_count": 455,
     "metadata": {},
     "output_type": "execute_result"
    }
   ],
   "source": [
    "dict1 = {'isim': 'Elif', 'yas':26, 'lokasyon': 'Bomonti'}\n",
    "dict1"
   ]
  },
  {
   "cell_type": "code",
   "execution_count": 457,
   "id": "a3a47085-47bf-4e02-90a3-8280b74fc672",
   "metadata": {},
   "outputs": [
    {
     "data": {
      "text/plain": [
       "{'isim': 'Elif', 'yas': 26, 'lokasyon': 'Bomonti'}"
      ]
     },
     "execution_count": 457,
     "metadata": {},
     "output_type": "execute_result"
    }
   ],
   "source": [
    "dict2 = {\n",
    "    'isim': 'Elif',\n",
    "    'yas': 26,\n",
    "    'lokasyon': 'Bomonti',\n",
    "}\n",
    "dict2"
   ]
  },
  {
   "cell_type": "code",
   "execution_count": 243,
   "id": "9426a505-e0a7-4b5c-8fcd-d8bb7ef22fa4",
   "metadata": {},
   "outputs": [
    {
     "data": {
      "text/plain": [
       "{'isim': 'Elif',\n",
       " 'yas': 26,\n",
       " 'lokasyon': {'dogdugu_sehir': 'Bomonti', 'yasadigi_sehir': 'İstanbul'}}"
      ]
     },
     "execution_count": 243,
     "metadata": {},
     "output_type": "execute_result"
    }
   ],
   "source": [
    "dict3 = {\n",
    "    'isim': 'Elif',\n",
    "    'yas': 26,\n",
    "    'lokasyon': {\n",
    "        'dogdugu_sehir': 'Bomonti',\n",
    "        'yasadigi_sehir': 'İstanbul'\n",
    "    } \n",
    "}\n",
    "dict3"
   ]
  },
  {
   "cell_type": "code",
   "execution_count": 461,
   "id": "4f884833-3da4-4055-9982-93bbcf764696",
   "metadata": {},
   "outputs": [
    {
     "data": {
      "text/plain": [
       "'Elif'"
      ]
     },
     "execution_count": 461,
     "metadata": {},
     "output_type": "execute_result"
    }
   ],
   "source": [
    "dict2['isim']"
   ]
  },
  {
   "cell_type": "code",
   "execution_count": 463,
   "id": "a0023ab0-198c-4b8a-9414-2cf82981b6c3",
   "metadata": {},
   "outputs": [
    {
     "data": {
      "text/plain": [
       "{'dogdugu_sehir': 'Bomonti', 'yasadigi_sehir': 'İstanbul'}"
      ]
     },
     "execution_count": 463,
     "metadata": {},
     "output_type": "execute_result"
    }
   ],
   "source": [
    "dict3['lokasyon']"
   ]
  },
  {
   "cell_type": "code",
   "execution_count": 465,
   "id": "aac67e6c-2ad0-49e7-8d8c-176d0289c094",
   "metadata": {},
   "outputs": [
    {
     "data": {
      "text/plain": [
       "'İstanbul'"
      ]
     },
     "execution_count": 465,
     "metadata": {},
     "output_type": "execute_result"
    }
   ],
   "source": [
    "dict3['lokasyon']['yasadigi_sehir']"
   ]
  },
  {
   "cell_type": "code",
   "execution_count": 469,
   "id": "366d6981-702a-450d-bf93-6bc55a5fbdeb",
   "metadata": {},
   "outputs": [
    {
     "data": {
      "text/plain": [
       "'Bomonti'"
      ]
     },
     "execution_count": 469,
     "metadata": {},
     "output_type": "execute_result"
    }
   ],
   "source": [
    "dict2.get('lokasyon')"
   ]
  },
  {
   "cell_type": "code",
   "execution_count": 471,
   "id": "93235017-d514-4fd7-9929-66ad7e75ffab",
   "metadata": {},
   "outputs": [
    {
     "data": {
      "text/plain": [
       "'Bomonti'"
      ]
     },
     "execution_count": 471,
     "metadata": {},
     "output_type": "execute_result"
    }
   ],
   "source": [
    "dict3.get('lokasyon').get('dogdugu_sehir')"
   ]
  },
  {
   "cell_type": "code",
   "execution_count": 473,
   "id": "87fd2bec-abbd-43ab-9752-284bc4a14049",
   "metadata": {},
   "outputs": [
    {
     "data": {
      "text/plain": [
       "dict_keys(['isim', 'yas', 'lokasyon'])"
      ]
     },
     "execution_count": 473,
     "metadata": {},
     "output_type": "execute_result"
    }
   ],
   "source": [
    "dict2.keys()"
   ]
  },
  {
   "cell_type": "code",
   "execution_count": 475,
   "id": "d9b186ba-d0fa-4ce8-9f43-69d241ff9837",
   "metadata": {},
   "outputs": [
    {
     "data": {
      "text/plain": [
       "dict_values(['Elif', 26, 'Bomonti'])"
      ]
     },
     "execution_count": 475,
     "metadata": {},
     "output_type": "execute_result"
    }
   ],
   "source": [
    "dict2.values()"
   ]
  },
  {
   "cell_type": "code",
   "execution_count": 477,
   "id": "869b382d-2f57-482a-a522-2b17ea3f60ba",
   "metadata": {},
   "outputs": [
    {
     "data": {
      "text/plain": [
       "dict_items([('isim', 'Elif'), ('yas', 26), ('lokasyon', 'Bomonti')])"
      ]
     },
     "execution_count": 477,
     "metadata": {},
     "output_type": "execute_result"
    }
   ],
   "source": [
    "dict2.items()"
   ]
  }
 ],
 "metadata": {
  "kernelspec": {
   "display_name": "Python [conda env:base] *",
   "language": "python",
   "name": "conda-base-py"
  },
  "language_info": {
   "codemirror_mode": {
    "name": "ipython",
    "version": 3
   },
   "file_extension": ".py",
   "mimetype": "text/x-python",
   "name": "python",
   "nbconvert_exporter": "python",
   "pygments_lexer": "ipython3",
   "version": "3.12.7"
  }
 },
 "nbformat": 4,
 "nbformat_minor": 5
}
